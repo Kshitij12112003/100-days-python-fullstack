{
 "cells": [
  {
   "cell_type": "markdown",
   "id": "2402f0b7-6b4c-4c12-96d5-81d8d13cfb0f",
   "metadata": {},
   "source": [
    "# Print-function"
   ]
  },
  {
   "cell_type": "code",
   "execution_count": 1,
   "id": "00028790-6e6f-482a-ad55-43452a4f7e26",
   "metadata": {},
   "outputs": [
    {
     "name": "stdout",
     "output_type": "stream",
     "text": [
      "Hello world!\n"
     ]
    }
   ],
   "source": [
    "print(\"Hello world!\")"
   ]
  },
  {
   "cell_type": "code",
   "execution_count": 2,
   "id": "f9a53341-7833-444e-91cf-f7b55c8416c2",
   "metadata": {},
   "outputs": [
    {
     "name": "stdout",
     "output_type": "stream",
     "text": [
      "Hello world!\n"
     ]
    }
   ],
   "source": [
    "print(\"Hello\"+\" \"+\"world!\")"
   ]
  },
  {
   "cell_type": "code",
   "execution_count": 3,
   "id": "ce947d54-956a-441d-9547-8f94edc22698",
   "metadata": {},
   "outputs": [
    {
     "name": "stdout",
     "output_type": "stream",
     "text": [
      "Hello world!\n"
     ]
    }
   ],
   "source": [
    "print(\"Hello \"+\"world!\")"
   ]
  },
  {
   "cell_type": "code",
   "execution_count": 4,
   "id": "80ccb168-e319-40f4-9323-7e8d3d970f83",
   "metadata": {},
   "outputs": [
    {
     "name": "stdout",
     "output_type": "stream",
     "text": [
      "Hello world!\n"
     ]
    }
   ],
   "source": [
    "print(\"Hello\"+\" world!\")"
   ]
  },
  {
   "cell_type": "markdown",
   "id": "c2df45b3-2f70-428a-a46e-02f1f4c29ade",
   "metadata": {},
   "source": [
    "### input() - function"
   ]
  },
  {
   "cell_type": "code",
   "execution_count": 5,
   "id": "6c3a2689-6cb3-4e67-94e1-fa597b8f95e7",
   "metadata": {},
   "outputs": [
    {
     "name": "stdout",
     "output_type": "stream",
     "text": [
      "The history saving thread hit an unexpected error (OperationalError('attempt to write a readonly database')).History will not be written to the database.\n"
     ]
    },
    {
     "name": "stdin",
     "output_type": "stream",
     "text": [
      "What is your name? Kshitij\n"
     ]
    },
    {
     "data": {
      "text/plain": [
       "'Kshitij'"
      ]
     },
     "execution_count": 5,
     "metadata": {},
     "output_type": "execute_result"
    }
   ],
   "source": [
    "input(\"What is your name?\")"
   ]
  },
  {
   "cell_type": "code",
   "execution_count": 6,
   "id": "286c0074-a868-40f0-945f-e701f8555d96",
   "metadata": {},
   "outputs": [
    {
     "name": "stdin",
     "output_type": "stream",
     "text": [
      "What is your name? Kshitij\n"
     ]
    },
    {
     "name": "stdout",
     "output_type": "stream",
     "text": [
      "Hello Kshitij\n"
     ]
    }
   ],
   "source": [
    "print(\"Hello \"+input(\"What is your name?\"))"
   ]
  },
  {
   "cell_type": "code",
   "execution_count": 7,
   "id": "214146e9-214c-483c-b5f0-6b3a0f75f0c8",
   "metadata": {},
   "outputs": [
    {
     "name": "stdin",
     "output_type": "stream",
     "text": [
      "What is your name? Kshitij\n"
     ]
    },
    {
     "name": "stdout",
     "output_type": "stream",
     "text": [
      "Hello Kshitij!\n"
     ]
    }
   ],
   "source": [
    "print(\"Hello \"+input(\"What is your name?\")+\"!\")"
   ]
  },
  {
   "cell_type": "code",
   "execution_count": 8,
   "id": "348b49ab-a48c-42c7-90dd-4e343e24ad09",
   "metadata": {},
   "outputs": [
    {
     "name": "stdin",
     "output_type": "stream",
     "text": [
      "What is your name? Kshitij\n"
     ]
    }
   ],
   "source": [
    "name=input(\"What is your name?\")"
   ]
  },
  {
   "cell_type": "code",
   "execution_count": 9,
   "id": "da836aba-d3a3-4b4a-9eab-5f9e9f87d97e",
   "metadata": {},
   "outputs": [
    {
     "name": "stdout",
     "output_type": "stream",
     "text": [
      "Kshitij\n"
     ]
    }
   ],
   "source": [
    "print(name)"
   ]
  },
  {
   "cell_type": "code",
   "execution_count": 10,
   "id": "b82251d7-d68a-488d-ab52-4f5094844c47",
   "metadata": {},
   "outputs": [
    {
     "name": "stdout",
     "output_type": "stream",
     "text": [
      "Welcome to the Band name gererator!\n"
     ]
    },
    {
     "name": "stdin",
     "output_type": "stream",
     "text": [
      "What's name of the city you grew up in? Varanasi\n",
      "What's your pet's name? pradhan\n"
     ]
    },
    {
     "name": "stdout",
     "output_type": "stream",
     "text": [
      "Your band name could be Varanasi pradhan!\n"
     ]
    }
   ],
   "source": [
    "print(\"Welcome to the Band name gererator!\")\n",
    "city_name=input(\"What's name of the city you grew up in?\")\n",
    "pet_name=input(\"What's your pet's name?\")\n",
    "\n",
    "print(\"Your band name could be \"+city_name+\" \"+pet_name+\"!\" )"
   ]
  },
  {
   "cell_type": "code",
   "execution_count": null,
   "id": "941624fc-39c7-4726-ba5c-5bb7346d208d",
   "metadata": {},
   "outputs": [],
   "source": []
  }
 ],
 "metadata": {
  "kernelspec": {
   "display_name": "Python (tf_env)",
   "language": "python",
   "name": "tf_env"
  },
  "language_info": {
   "codemirror_mode": {
    "name": "ipython",
    "version": 3
   },
   "file_extension": ".py",
   "mimetype": "text/x-python",
   "name": "python",
   "nbconvert_exporter": "python",
   "pygments_lexer": "ipython3",
   "version": "3.10.9"
  }
 },
 "nbformat": 4,
 "nbformat_minor": 5
}
